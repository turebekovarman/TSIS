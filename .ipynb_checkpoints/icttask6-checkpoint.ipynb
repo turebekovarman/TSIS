{
 "cells": [
  {
   "cell_type": "code",
   "execution_count": null,
   "id": "efficient-lightweight",
   "metadata": {},
   "outputs": [],
   "source": [
    "morse_code_dict = {'A':'.-'   , 'B':'-...' , 'C':'-.-.' , 'D':'-..'  , 'E':'.'    , 'F':'..-.' , 'G':'--.'  , \n",
    "                   'H':'....' , 'I':'..'   , 'J':'.---' , 'K':'-.-'  , 'L':'.-..' , 'M':'--'   , 'N':'-.'   , \n",
    "                   'O':'---'  , 'P':'.--.' , 'Q':'--.-' , 'R':'.-.'  , 'S':'...'  , 'T':'-'    , 'U':'..-'  , \n",
    "                   'V':'...-' , 'W':'.--'  , 'X':'-..-' , 'Y':'-.--' , 'Z':'--..' , '0':'-----', '1':'.----', \n",
    "                   '2':'..---', '3':'...--', '4':'....-', '5':'.....', '6':'-....', '7':'--...', '8':'---..', \n",
    "                   '9':'----.'}\n",
    " \n",
    "def create_morse_message(text):\n",
    "    morse_str = \"\"\n",
    "    for c in text:\n",
    "        if c.isalnum():\n",
    "            morse_str += morse_code_dict[c.upper()]\n",
    "        morse_str += \" \"\n",
    "    return morse_str\n",
    " \n",
    "def main():\n",
    "    morse = create_morse_message(\"Arman\")\n",
    "    print(morse)\n",
    " \n",
    "if __name__ == '__main__':\n",
    "    main()"
   ]
  },
  {
   "cell_type": "code",
   "execution_count": null,
   "id": "thick-environment",
   "metadata": {},
   "outputs": [],
   "source": [
    "word=input()\n",
    "elements_in_word=set(word) #выводит только уникальные элементы\n",
    "len_of_unique_elements=len(elements_in_word)\n",
    "print(len_of_unique_elements)"
   ]
  },
  {
   "cell_type": "code",
   "execution_count": null,
   "id": "remarkable-lottery",
   "metadata": {},
   "outputs": [],
   "source": [
    "def check(word1, word2):\n",
    "    if(sorted(word1)== sorted(word2)): #отсортированной функции все равно как лежат буквы порядок итд\n",
    "        print(\"BUKVY ODINAKOVY(ANAGRAMS)\")\n",
    "    else:\n",
    "        print(\"NE ODINAKOVYE(NOT ANAGRAMS)\")  \n",
    "       \n",
    "word1=\"arman\"\n",
    "word2=\"mraan\"\n",
    "check(word1, word2)"
   ]
  },
  {
   "cell_type": "code",
   "execution_count": null,
   "id": "vocal-assignment",
   "metadata": {},
   "outputs": [],
   "source": [
    "def check(word1, word2):\n",
    "    if(sorted(word1)== sorted(word2)): #отсортированной функции все равно как лежат буквы порядок итд\n",
    "        print(\"BUKVY ODINAKOVY(ANAGRAMS)\")\n",
    "    else:\n",
    "        print(\"NE ODINAKOVYE(NOT ANAGRAMS)\")  \n",
    "       \n",
    "word1=s.lower(\"arman\")\n",
    "word2=s.lower(\"mraan\")\n",
    "check(word1, word2)"
   ]
  },
  {
   "cell_type": "code",
   "execution_count": null,
   "id": "departmental-nigeria",
   "metadata": {},
   "outputs": [],
   "source": [
    "score = {\"a\": 1, \"c\": 3, \"b\": 3, \"e\": 1, \"d\": 2, \"g\": 2, \n",
    "         \"f\": 4, \"i\": 1, \"h\": 4, \"k\": 5, \"j\": 8, \"m\": 3, \n",
    "         \"l\": 1, \"o\": 1, \"n\": 1, \"q\": 10, \"p\": 3, \"s\": 1, \n",
    "         \"r\": 1, \"u\": 1, \"t\": 1, \"w\": 4, \"v\": 4, \"y\": 4, \n",
    "         \"x\": 8, \"z\": 10}\n",
    "\n",
    "def scrabble_score(word):\n",
    "    total = 0\n",
    "    for i in word:\n",
    "        total = total+score[i.lower()]\n",
    "    return total\n",
    "\n",
    "print scrabble_score(\"Arman\")"
   ]
  }
 ],
 "metadata": {
  "kernelspec": {
   "display_name": "Python 3",
   "language": "python",
   "name": "python3"
  },
  "language_info": {
   "codemirror_mode": {
    "name": "ipython",
    "version": 3
   },
   "file_extension": ".py",
   "mimetype": "text/x-python",
   "name": "python",
   "nbconvert_exporter": "python",
   "pygments_lexer": "ipython3",
   "version": "3.9.1"
  }
 },
 "nbformat": 4,
 "nbformat_minor": 5
}
